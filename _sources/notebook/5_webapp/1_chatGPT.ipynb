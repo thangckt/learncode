{
  "cells": [
    {
      "cell_type": "markdown",
      "metadata": {
        "id": "view-in-github",
        "colab_type": "text"
      },
      "source": [
        "<a href=\"https://colab.research.google.com/github/thangckt/note_code/blob/main/notebook/5_webapp/1_chatGPT.ipynb\" target=\"_parent\"><img src=\"https://colab.research.google.com/assets/colab-badge.svg\" alt=\"Open In Colab\"/></a>"
      ]
    },
    {
      "cell_type": "markdown",
      "metadata": {
        "id": "cUZ2jpHBG8Zl"
      },
      "source": [
        "Using free chatGPT and variants\n",
        "\n",
        "# Using openAI web by seledium\n",
        "\n",
        "This approach is as using openAI API but free.\n",
        "\n",
        "\n",
        "\n",
        "\n",
        "REFERENCES:\n",
        "- [repo](https://github.com/mache102/SlymeGPT)"
      ]
    }
  ],
  "metadata": {
    "colab": {
      "provenance": [],
      "toc_visible": true,
      "include_colab_link": true
    },
    "kernelspec": {
      "display_name": "base",
      "language": "python",
      "name": "python3"
    },
    "language_info": {
      "name": "python",
      "version": "3.10.8 | packaged by conda-forge | (main, Nov 24 2022, 14:07:00) [MSC v.1916 64 bit (AMD64)]"
    },
    "orig_nbformat": 4,
    "vscode": {
      "interpreter": {
        "hash": "2b6e7cfdce5ef245d32482b7f80393907c6182a3f3a40203474e09cb3d62b454"
      }
    }
  },
  "nbformat": 4,
  "nbformat_minor": 0
}