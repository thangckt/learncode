{
  "cells": [
    {
      "attachments": {},
      "cell_type": "markdown",
      "metadata": {
        "id": "cUZ2jpHBG8Zl"
      },
      "source": [
        "# Multiprocessing\n",
        "\n",
        "The Python Multiprocessing Module is a tool for you to increase your scripts’ efficiency by allocating tasks to different processes. It is a great tool to use when you need to do some heavy data processing or when you need to do some tasks in parallel.\n",
        "\n",
        "REFERENCES:\n",
        "- [Multiprocessing in Python](https://machinelearningmastery.com/multiprocessing-in-python/)"
      ]
    },
    {
      "attachments": {},
      "cell_type": "markdown",
      "metadata": {},
      "source": [
        "## Why Multiprocessing?\n",
        "Multiprocessing can make a program substantially more efficient by running multiple tasks in parallel instead of sequentially. A similar term is multithreading, but they are different.\n",
        "- A process is a program loaded into memory to run and does not share its memory with other processes. \n",
        "- A thread is an execution unit within a process. Multiple threads run in a process and share the process’s memory space with each other.\n",
        "\n",
        "Python’s Global Interpreter Lock (GIL) only allows one thread to be run at a time under the interpreter, which means you can’t enjoy the performance benefit of multithreading if the Python interpreter is required. This is what gives multiprocessing an upper hand over threading in Python. Multiple processes can be run in parallel because each process has its own interpreter that executes the instructions allocated to it. Also, the OS would see your program in multiple processes and schedule them separately, i.e., your program gets a larger share of computer resources in total. So, multiprocessing is faster when the program is CPU-bound. In cases where there is a lot of I/O in your program, threading may be more efficient because most of the time, your program is waiting for the I/O to complete. However, multiprocessing is generally more efficient because it runs concurrently."
      ]
    },
    {
      "attachments": {},
      "cell_type": "markdown",
      "metadata": {},
      "source": [
        "## Basic multiprocessing\n",
        "Let’s look at this function, `task()`, that sleeps for 0.5 seconds and prints before and after the sleep:"
      ]
    },
    {
      "cell_type": "code",
      "execution_count": 2,
      "metadata": {},
      "outputs": [
        {
          "name": "stdout",
          "output_type": "stream",
          "text": [
            "Program finished in 0.0036011000629514456 seconds\n"
          ]
        }
      ],
      "source": [
        "import multiprocessing\n",
        "import time\n",
        " \n",
        "def task():\n",
        "    print('Sleeping for 0.5 seconds')\n",
        "    time.sleep(0.5)\n",
        "    print('Finished sleeping')\n",
        " \n",
        "if __name__ == \"__main__\":\n",
        "    start_time = time.perf_counter()\n",
        " \n",
        "    # Creates two processes\n",
        "    p1 = multiprocessing.Process(target=task)\n",
        "    p2 = multiprocessing.Process(target=task)\n",
        " \n",
        "    # Starts both processes\n",
        "    p1.start()\n",
        "    p2.start()\n",
        " \n",
        "    finish_time = time.perf_counter()\n",
        " \n",
        "    print(f\"Program finished in {finish_time-start_time} seconds\")"
      ]
    },
    {
      "attachments": {},
      "cell_type": "markdown",
      "metadata": {},
      "source": [
        "We must fence our main program under `if __name__ == \"__main__\"` or otherwise the `multiprocessing` module will complain. This safety construct guarantees Python finishes analyzing the program before the sub-process is created.\n",
        "\n",
        "Read more in references."
      ]
    },
    {
      "attachments": {},
      "cell_type": "markdown",
      "metadata": {},
      "source": [
        "# MPI4PY\n",
        "\n",
        "multiprocessing vs mpi4py (chatGPT)\n",
        "- Multiprocessing is a built-in Python module that allows for the creation of multiple processes on a single machine to parallelize tasks. It is relatively simple to use and has low overhead, making it a good choice for parallelizing small to medium-sized tasks that can be run on a single machine. However, since all processes are running on the same machine, there may be limitations in terms of the amount of parallelism that can be achieved, depending on the number of available cores.\n",
        "- mpi4py, on the other hand, is a Python interface to the Message Passing Interface (MPI), which is a standard for parallel computing across multiple machines. It allows for parallelism on a much larger scale, with the ability to run tasks across multiple nodes in a cluster. mpi4py is generally more complex to use than multiprocessing, requiring more setup and configuration, but it can provide significantly higher levels of parallelism.\n",
        "\n",
        "In terms of performance, the choice between multiprocessing and mpi4py will depend on the specific requirements of the task at hand. For small to medium-sized tasks that can be run on a single machine, multiprocessing may provide better performance due to its low overhead and ease of use. For larger tasks that require parallelism across multiple machines, mpi4py may be necessary to achieve the required level of performance.\n",
        "\n",
        "It's worth noting that there are other factors beyond the choice of framework that can affect the performance of parallel computing, such as the nature of the task being parallelized, the available hardware, and the efficiency of the implementation. As such, it's always a good idea to benchmark and optimize your specific use case to determine the best approach for your needs.\n",
        "\n",
        "\n",
        "\n",
        "\n",
        "\n",
        "Regenerate response\n",
        "\n",
        "\n",
        "References:\n",
        "- https://stackoverflow.com/questions/43046037/replacing-multiprocessing-pool-map-with-mpi4py"
      ]
    }
  ],
  "metadata": {
    "colab": {
      "provenance": [],
      "toc_visible": true
    },
    "kernelspec": {
      "display_name": "base",
      "language": "python",
      "name": "python3"
    },
    "language_info": {
      "codemirror_mode": {
        "name": "ipython",
        "version": 3
      },
      "file_extension": ".py",
      "mimetype": "text/x-python",
      "name": "python",
      "nbconvert_exporter": "python",
      "pygments_lexer": "ipython3",
      "version": "3.11.3"
    },
    "orig_nbformat": 4,
    "vscode": {
      "interpreter": {
        "hash": "2b6e7cfdce5ef245d32482b7f80393907c6182a3f3a40203474e09cb3d62b454"
      }
    }
  },
  "nbformat": 4,
  "nbformat_minor": 0
}
