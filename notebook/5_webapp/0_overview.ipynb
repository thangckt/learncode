{
  "cells": [
    {
      "attachments": {},
      "cell_type": "markdown",
      "metadata": {
        "id": "cUZ2jpHBG8Zl"
      },
      "source": [
        "# Webapp\n",
        "\n",
        "How does a PyScript compare with a server-based app?\n",
        "\n",
        "Is it easier than a Django or Flask app? Or Streamlit? Or Dash?\n",
        "\n",
        "the advantage that PyScript has is that it does not need a server. That makes deployment extremely easy — I simply uploaded the app you see here to a Github Pages site and it just works.\n",
        "\n",
        "\n",
        "\n",
        "REFERENCES:\n",
        "- [Create an Interactive Web App with PyScript and Pandas](https://towardsdatascience.com/create-an-interactive-web-app-with-pyscript-and-pandas-3918ad2dada1)\n",
        "- [Some example apps](https://alanjones2.github.io/)\n",
        "- [A First Look at PyScript: Python in the Web Browser](https://realpython.com/pyscript-python-in-browser/)\n",
        "- [Deploy a Panel Visualization Dashboard to GitHub Pages](https://towardsdatascience.com/how-to-deploy-a-panel-visualization-dashboard-to-github-pages-2f520fd8660)"
      ]
    }
  ],
  "metadata": {
    "colab": {
      "provenance": [],
      "toc_visible": true
    },
    "kernelspec": {
      "display_name": "base",
      "language": "python",
      "name": "python3"
    },
    "language_info": {
      "name": "python",
      "version": "3.10.8 | packaged by conda-forge | (main, Nov 24 2022, 14:07:00) [MSC v.1916 64 bit (AMD64)]"
    },
    "orig_nbformat": 4,
    "vscode": {
      "interpreter": {
        "hash": "2b6e7cfdce5ef245d32482b7f80393907c6182a3f3a40203474e09cb3d62b454"
      }
    }
  },
  "nbformat": 4,
  "nbformat_minor": 0
}
